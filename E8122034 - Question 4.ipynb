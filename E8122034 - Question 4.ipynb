{
 "cells": [
  {
   "cell_type": "markdown",
   "id": "c4ca543f",
   "metadata": {},
   "source": [
    "4.Suppose you are working on a project to predict the selling price of residential\n",
    "properties based on various features such as size, number of bedrooms, location,\n",
    "etc. You have collected a dataset of 500 properties along with their features and\n",
    "selling prices. You decide to use SVM regression to build a model that can predict\n",
    "the selling price of a property based on its features.\n",
    "Do the following :\n",
    "1.Split the dataset into training and test sets.\n",
    "2. Train an SVM regression model on the training set using an RBF kernel.\n",
    "3. Evaluate the performance of the model on the test set using the mean\n",
    "squared error (MSE) metric.\n",
    "4. Fine-tune the hyperparameters of the SVM model (such as the\n",
    "regularization parameter and kernel bandwidth) using cross-validation to\n",
    "further improve its performance.\n",
    "5. Once you are satisfied with the performance of the model, use it to make\n",
    "predictions on new, unseen properties."
   ]
  },
  {
   "cell_type": "code",
   "execution_count": 1,
   "id": "872552d9",
   "metadata": {},
   "outputs": [],
   "source": [
    "#load the dataset\n",
    "import pandas as pd\n",
    "import numpy as np\n",
    "residential=pd.read_csv(\"C:\\\\Users\\\\USER\\\\Desktop\\\\Term 3\\\\ML\\\\residential_properties.csv\")"
   ]
  },
  {
   "cell_type": "code",
   "execution_count": 2,
   "id": "e79ce83b",
   "metadata": {},
   "outputs": [
    {
     "name": "stdout",
     "output_type": "stream",
     "text": [
      "<class 'pandas.core.frame.DataFrame'>\n",
      "RangeIndex: 19 entries, 0 to 18\n",
      "Data columns (total 8 columns):\n",
      " #   Column                   Non-Null Count  Dtype  \n",
      "---  ------                   --------------  -----  \n",
      " 0   Size (sq ft)             19 non-null     int64  \n",
      " 1   Bedrooms                 19 non-null     int64  \n",
      " 2   Bathrooms                19 non-null     int64  \n",
      " 3   Location                 19 non-null     object \n",
      " 4   Year Built               19 non-null     int64  \n",
      " 5   Garage Size              19 non-null     int64  \n",
      " 6   Distance to School (mi)  19 non-null     float64\n",
      " 7   Selling Price (k$)       19 non-null     int64  \n",
      "dtypes: float64(1), int64(6), object(1)\n",
      "memory usage: 1.3+ KB\n"
     ]
    }
   ],
   "source": [
    "residential.info()"
   ]
  },
  {
   "cell_type": "code",
   "execution_count": 3,
   "id": "b8ee7c46",
   "metadata": {},
   "outputs": [
    {
     "data": {
      "text/plain": [
       "Index(['Size_(sq_ft)', 'Bedrooms', 'Bathrooms', 'Location', 'Year_Built',\n",
       "       'Garage_Size', 'Distance_to_School_(mi)', 'Selling_Price_(k$)'],\n",
       "      dtype='object')"
      ]
     },
     "execution_count": 3,
     "metadata": {},
     "output_type": "execute_result"
    }
   ],
   "source": [
    "#cleaning\n",
    "residential.columns=residential.columns.str.replace(' ','_')\n",
    "residential.columns"
   ]
  },
  {
   "cell_type": "code",
   "execution_count": 4,
   "id": "2235eefe",
   "metadata": {},
   "outputs": [],
   "source": [
    "#for model training\n",
    "residential1=residential.select_dtypes(exclude=['object'])"
   ]
  },
  {
   "cell_type": "code",
   "execution_count": 5,
   "id": "b62fc7f6",
   "metadata": {},
   "outputs": [
    {
     "data": {
      "text/html": [
       "<div>\n",
       "<style scoped>\n",
       "    .dataframe tbody tr th:only-of-type {\n",
       "        vertical-align: middle;\n",
       "    }\n",
       "\n",
       "    .dataframe tbody tr th {\n",
       "        vertical-align: top;\n",
       "    }\n",
       "\n",
       "    .dataframe thead th {\n",
       "        text-align: right;\n",
       "    }\n",
       "</style>\n",
       "<table border=\"1\" class=\"dataframe\">\n",
       "  <thead>\n",
       "    <tr style=\"text-align: right;\">\n",
       "      <th></th>\n",
       "      <th>Size_(sq_ft)</th>\n",
       "      <th>Bedrooms</th>\n",
       "      <th>Bathrooms</th>\n",
       "      <th>Year_Built</th>\n",
       "      <th>Garage_Size</th>\n",
       "      <th>Distance_to_School_(mi)</th>\n",
       "      <th>Selling_Price_(k$)</th>\n",
       "    </tr>\n",
       "  </thead>\n",
       "  <tbody>\n",
       "    <tr>\n",
       "      <th>count</th>\n",
       "      <td>19.000000</td>\n",
       "      <td>19.000000</td>\n",
       "      <td>19.000000</td>\n",
       "      <td>19.000000</td>\n",
       "      <td>19.000000</td>\n",
       "      <td>19.000000</td>\n",
       "      <td>19.000000</td>\n",
       "    </tr>\n",
       "    <tr>\n",
       "      <th>mean</th>\n",
       "      <td>2142.105263</td>\n",
       "      <td>3.210526</td>\n",
       "      <td>2.263158</td>\n",
       "      <td>1997.105263</td>\n",
       "      <td>1.526316</td>\n",
       "      <td>1.968421</td>\n",
       "      <td>405.789474</td>\n",
       "    </tr>\n",
       "    <tr>\n",
       "      <th>std</th>\n",
       "      <td>696.272448</td>\n",
       "      <td>1.182227</td>\n",
       "      <td>1.097578</td>\n",
       "      <td>18.438772</td>\n",
       "      <td>1.073334</td>\n",
       "      <td>1.459091</td>\n",
       "      <td>242.837755</td>\n",
       "    </tr>\n",
       "    <tr>\n",
       "      <th>min</th>\n",
       "      <td>1000.000000</td>\n",
       "      <td>1.000000</td>\n",
       "      <td>1.000000</td>\n",
       "      <td>1950.000000</td>\n",
       "      <td>0.000000</td>\n",
       "      <td>0.300000</td>\n",
       "      <td>100.000000</td>\n",
       "    </tr>\n",
       "    <tr>\n",
       "      <th>25%</th>\n",
       "      <td>1700.000000</td>\n",
       "      <td>2.000000</td>\n",
       "      <td>1.000000</td>\n",
       "      <td>1987.500000</td>\n",
       "      <td>1.000000</td>\n",
       "      <td>0.750000</td>\n",
       "      <td>187.500000</td>\n",
       "    </tr>\n",
       "    <tr>\n",
       "      <th>50%</th>\n",
       "      <td>2000.000000</td>\n",
       "      <td>3.000000</td>\n",
       "      <td>2.000000</td>\n",
       "      <td>2003.000000</td>\n",
       "      <td>2.000000</td>\n",
       "      <td>1.500000</td>\n",
       "      <td>375.000000</td>\n",
       "    </tr>\n",
       "    <tr>\n",
       "      <th>75%</th>\n",
       "      <td>2650.000000</td>\n",
       "      <td>4.000000</td>\n",
       "      <td>3.000000</td>\n",
       "      <td>2010.000000</td>\n",
       "      <td>2.000000</td>\n",
       "      <td>2.950000</td>\n",
       "      <td>575.000000</td>\n",
       "    </tr>\n",
       "    <tr>\n",
       "      <th>max</th>\n",
       "      <td>3400.000000</td>\n",
       "      <td>5.000000</td>\n",
       "      <td>4.000000</td>\n",
       "      <td>2020.000000</td>\n",
       "      <td>3.000000</td>\n",
       "      <td>5.200000</td>\n",
       "      <td>900.000000</td>\n",
       "    </tr>\n",
       "  </tbody>\n",
       "</table>\n",
       "</div>"
      ],
      "text/plain": [
       "       Size_(sq_ft)   Bedrooms  Bathrooms   Year_Built  Garage_Size  \\\n",
       "count     19.000000  19.000000  19.000000    19.000000    19.000000   \n",
       "mean    2142.105263   3.210526   2.263158  1997.105263     1.526316   \n",
       "std      696.272448   1.182227   1.097578    18.438772     1.073334   \n",
       "min     1000.000000   1.000000   1.000000  1950.000000     0.000000   \n",
       "25%     1700.000000   2.000000   1.000000  1987.500000     1.000000   \n",
       "50%     2000.000000   3.000000   2.000000  2003.000000     2.000000   \n",
       "75%     2650.000000   4.000000   3.000000  2010.000000     2.000000   \n",
       "max     3400.000000   5.000000   4.000000  2020.000000     3.000000   \n",
       "\n",
       "       Distance_to_School_(mi)  Selling_Price_(k$)  \n",
       "count                19.000000           19.000000  \n",
       "mean                  1.968421          405.789474  \n",
       "std                   1.459091          242.837755  \n",
       "min                   0.300000          100.000000  \n",
       "25%                   0.750000          187.500000  \n",
       "50%                   1.500000          375.000000  \n",
       "75%                   2.950000          575.000000  \n",
       "max                   5.200000          900.000000  "
      ]
     },
     "execution_count": 5,
     "metadata": {},
     "output_type": "execute_result"
    }
   ],
   "source": [
    "#EDA\n",
    "residential1.describe()"
   ]
  },
  {
   "cell_type": "code",
   "execution_count": 6,
   "id": "1ca8a691",
   "metadata": {},
   "outputs": [],
   "source": [
    "#Scaling\n",
    "from sklearn import preprocessing\n",
    "residential2=residential1.copy()\n",
    "#scaler=preprocessing.MinMaxScaler()->default feature_range=(0,1)\n",
    "scalar=preprocessing.MinMaxScaler(feature_range=(0,1))\n",
    "residential2.iloc[:,:]=scalar.fit_transform(residential2)"
   ]
  },
  {
   "cell_type": "code",
   "execution_count": 7,
   "id": "47d076a4",
   "metadata": {},
   "outputs": [],
   "source": [
    "#independent and target varaibles\n",
    "x=residential2.drop('Selling_Price_(k$)',axis=1)\n",
    "y=residential2['Selling_Price_(k$)']"
   ]
  },
  {
   "cell_type": "code",
   "execution_count": 8,
   "id": "3b15c2ce",
   "metadata": {},
   "outputs": [],
   "source": [
    "#1.spliting data into train and test data\n",
    "from sklearn.model_selection import train_test_split\n",
    "x_train,x_test,y_train,y_test=train_test_split(x,y,test_size=0.2, random_state=2)"
   ]
  },
  {
   "cell_type": "code",
   "execution_count": 9,
   "id": "cf719f89",
   "metadata": {},
   "outputs": [
    {
     "data": {
      "text/plain": [
       "SVR()"
      ]
     },
     "execution_count": 9,
     "metadata": {},
     "output_type": "execute_result"
    }
   ],
   "source": [
    "#2.training SVR model, rbf kernel\n",
    "from sklearn.svm import SVR\n",
    "model=SVR(kernel='rbf')\n",
    "model.fit(x_train,y_train)"
   ]
  },
  {
   "cell_type": "code",
   "execution_count": 10,
   "id": "9302c94b",
   "metadata": {},
   "outputs": [],
   "source": [
    "#predicting values for test data\n",
    "predit=model.predict(x_test)"
   ]
  },
  {
   "cell_type": "code",
   "execution_count": 11,
   "id": "8ffeeda3",
   "metadata": {},
   "outputs": [
    {
     "data": {
      "text/plain": [
       "0.05428990240233163"
      ]
     },
     "execution_count": 11,
     "metadata": {},
     "output_type": "execute_result"
    }
   ],
   "source": [
    "#error rate\n",
    "from sklearn import metrics\n",
    "metrics.mean_absolute_error(y_test,predit)"
   ]
  },
  {
   "cell_type": "code",
   "execution_count": 12,
   "id": "9523afa1",
   "metadata": {},
   "outputs": [
    {
     "data": {
      "text/plain": [
       "0.005238273799967598"
      ]
     },
     "execution_count": 12,
     "metadata": {},
     "output_type": "execute_result"
    }
   ],
   "source": [
    "#3.MSE\n",
    "metrics.mean_squared_error(y_test,predit)"
   ]
  },
  {
   "cell_type": "code",
   "execution_count": 13,
   "id": "4b862abc",
   "metadata": {},
   "outputs": [
    {
     "name": "stdout",
     "output_type": "stream",
     "text": [
      "0.07237592002847078\n"
     ]
    }
   ],
   "source": [
    "import numpy as np\n",
    "rmse=np.sqrt(metrics.mean_squared_error(y_test,predit))\n",
    "print(rmse)"
   ]
  },
  {
   "cell_type": "code",
   "execution_count": 14,
   "id": "6309e47c",
   "metadata": {},
   "outputs": [
    {
     "data": {
      "text/plain": [
       "0.9006668079413551"
      ]
     },
     "execution_count": 14,
     "metadata": {},
     "output_type": "execute_result"
    }
   ],
   "source": [
    "#score for test data\n",
    "model.score(x_test,y_test)"
   ]
  },
  {
   "cell_type": "code",
   "execution_count": 15,
   "id": "29fd7cc0",
   "metadata": {},
   "outputs": [
    {
     "data": {
      "text/plain": [
       "0.9358902779279757"
      ]
     },
     "execution_count": 15,
     "metadata": {},
     "output_type": "execute_result"
    }
   ],
   "source": [
    "#score for train data\n",
    "model.score(x_train,y_train)"
   ]
  },
  {
   "cell_type": "code",
   "execution_count": 16,
   "id": "5a8075a8",
   "metadata": {},
   "outputs": [
    {
     "name": "stdout",
     "output_type": "stream",
     "text": [
      "Alpha: 1.00e-10 -- Mean squared error: 0.01\n",
      "Alpha: 1.00e-09 -- Mean squared error: 0.00\n",
      "Alpha: 1.00e-08 -- Mean squared error: 0.01\n",
      "Alpha: 1.00e-07 -- Mean squared error: 0.01\n",
      "Alpha: 1.00e-06 -- Mean squared error: 0.00\n"
     ]
    }
   ],
   "source": [
    "#4.#Regularization using Cross validation\n",
    "\n",
    "from sklearn.linear_model import RidgeCV\n",
    "from sklearn.linear_model import LassoCV\n",
    "from sklearn.model_selection import cross_val_score\n",
    "import numpy as np\n",
    "\n",
    "# Set up Ridge regression with cross-validation\n",
    "ridge = RidgeCV(alphas=np.logspace(-10, 10, 21), cv=5)\n",
    "\n",
    "# Perform cross-validation and compute mean squared error\n",
    "mse = -cross_val_score(ridge, x, y, scoring='neg_mean_squared_error', cv=5)\n",
    "\n",
    "# Print mean squared error for each alpha\n",
    "for alpha, mse_val in zip(ridge.alphas, mse):\n",
    "    print(\"Alpha: {:.2e} -- Mean squared error: {:.2f}\".format(alpha, mse_val))"
   ]
  },
  {
   "cell_type": "code",
   "execution_count": 17,
   "id": "81351c87",
   "metadata": {},
   "outputs": [
    {
     "name": "stdout",
     "output_type": "stream",
     "text": [
      "Alpha: 1.00e-10 -- Mean squared error: 0.01\n",
      "Alpha: 1.00e-09 -- Mean squared error: 0.00\n",
      "Alpha: 1.00e-08 -- Mean squared error: 0.00\n",
      "Alpha: 1.00e-07 -- Mean squared error: 0.01\n",
      "Alpha: 1.00e-06 -- Mean squared error: 0.00\n"
     ]
    },
    {
     "name": "stderr",
     "output_type": "stream",
     "text": [
      "C:\\Users\\USER\\anaconda3\\lib\\site-packages\\sklearn\\linear_model\\_coordinate_descent.py:633: ConvergenceWarning: Objective did not converge. You might want to increase the number of iterations. Duality gap: 0.00010570123967140743, tolerance: 9.036588541666667e-05\n",
      "  model = cd_fast.enet_coordinate_descent_gram(\n",
      "C:\\Users\\USER\\anaconda3\\lib\\site-packages\\sklearn\\linear_model\\_coordinate_descent.py:633: ConvergenceWarning: Objective did not converge. You might want to increase the number of iterations. Duality gap: 9.838443329852203e-05, tolerance: 9.036588541666667e-05\n",
      "  model = cd_fast.enet_coordinate_descent_gram(\n",
      "C:\\Users\\USER\\anaconda3\\lib\\site-packages\\sklearn\\linear_model\\_coordinate_descent.py:633: ConvergenceWarning: Objective did not converge. You might want to increase the number of iterations. Duality gap: 9.735465841507682e-05, tolerance: 9.036588541666667e-05\n",
      "  model = cd_fast.enet_coordinate_descent_gram(\n",
      "C:\\Users\\USER\\anaconda3\\lib\\site-packages\\sklearn\\linear_model\\_coordinate_descent.py:633: ConvergenceWarning: Objective did not converge. You might want to increase the number of iterations. Duality gap: 9.723574898709911e-05, tolerance: 9.036588541666667e-05\n",
      "  model = cd_fast.enet_coordinate_descent_gram(\n",
      "C:\\Users\\USER\\anaconda3\\lib\\site-packages\\sklearn\\linear_model\\_coordinate_descent.py:633: ConvergenceWarning: Objective did not converge. You might want to increase the number of iterations. Duality gap: 9.722266147575015e-05, tolerance: 9.036588541666667e-05\n",
      "  model = cd_fast.enet_coordinate_descent_gram(\n",
      "C:\\Users\\USER\\anaconda3\\lib\\site-packages\\sklearn\\linear_model\\_coordinate_descent.py:633: ConvergenceWarning: Objective did not converge. You might want to increase the number of iterations. Duality gap: 9.722367981043062e-05, tolerance: 9.036588541666667e-05\n",
      "  model = cd_fast.enet_coordinate_descent_gram(\n"
     ]
    }
   ],
   "source": [
    "#4.Lasso regularization with cross-validation\n",
    "lasso = LassoCV(alphas=np.logspace(-10, 10, 21), cv=5)\n",
    "\n",
    "# Perform cross-validation and compute mean squared error\n",
    "mse = -cross_val_score(lasso, x, y, scoring='neg_mean_squared_error', cv=5)\n",
    "\n",
    "# Print mean squared error for each alpha\n",
    "for alpha, mse_val in zip(lasso.alphas, mse):\n",
    "    print(\"Alpha: {:.2e} -- Mean squared error: {:.2f}\".format(alpha, mse_val))\n"
   ]
  },
  {
   "cell_type": "markdown",
   "id": "8d23d710",
   "metadata": {},
   "source": [
    "##### (model.predict([[2600,3,2,2003,1,2.95]]))*1000"
   ]
  }
 ],
 "metadata": {
  "kernelspec": {
   "display_name": "Python 3 (ipykernel)",
   "language": "python",
   "name": "python3"
  },
  "language_info": {
   "codemirror_mode": {
    "name": "ipython",
    "version": 3
   },
   "file_extension": ".py",
   "mimetype": "text/x-python",
   "name": "python",
   "nbconvert_exporter": "python",
   "pygments_lexer": "ipython3",
   "version": "3.9.13"
  }
 },
 "nbformat": 4,
 "nbformat_minor": 5
}
